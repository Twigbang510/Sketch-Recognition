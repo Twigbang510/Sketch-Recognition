{
  "nbformat": 4,
  "nbformat_minor": 0,
  "metadata": {
    "colab": {
      "provenance": []
    },
    "kernelspec": {
      "name": "python3",
      "display_name": "Python 3"
    },
    "language_info": {
      "name": "python"
    }
  },
  "cells": [
    {
      "cell_type": "markdown",
      "source": [
        "# Chuẩn bị lib"
      ],
      "metadata": {
        "id": "uE7wwEpGyXfY"
      }
    },
    {
      "cell_type": "code",
      "source": [
        "import os\n",
        "import glob\n",
        "import numpy as np\n",
        "from tensorflow.keras import layers\n",
        "from tensorflow import keras\n",
        "import tensorflow as tf\n",
        "import urllib.request\n",
        "import matplotlib.pyplot as plt\n",
        "from random import randint\n",
        "%matplotlib inline\n"
      ],
      "metadata": {
        "id": "FXfXTmvBkPvq"
      },
      "execution_count": 5,
      "outputs": []
    },
    {
      "cell_type": "markdown",
      "source": [
        "# Phần 1 : Tải data"
      ],
      "metadata": {
        "id": "QY_qpofjkVDS"
      }
    },
    {
      "cell_type": "markdown",
      "source": [
        "Có thể tải dataset từ đây"
      ],
      "metadata": {
        "id": "zKqNob7dl_fG"
      }
    },
    {
      "cell_type": "code",
      "source": [
        "!wget 'https://raw.githubusercontent.com/googlecreativelab/quickdraw-dataset/master/categories.txt'"
      ],
      "metadata": {
        "id": "w2q55HaLlimW"
      },
      "execution_count": null,
      "outputs": []
    },
    {
      "cell_type": "code",
      "source": [
        "f = open(\"categories.txt\",\"r\")\n",
        "classes = f.readlines()\n",
        "f.close()\n",
        "classes = [c.replace('\\n','').replace(' ','_') for c in classes]\n",
        "print(classes)"
      ],
      "metadata": {
        "id": "dI4panSpkmGs"
      },
      "execution_count": null,
      "outputs": []
    },
    {
      "cell_type": "markdown",
      "source": [
        "Hoặc định danh từ đây"
      ],
      "metadata": {
        "id": "RM-gO1pQmEFp"
      }
    },
    {
      "cell_type": "code",
      "source": [
        "classes = ['cat', 'tree', 'banana', 'apple']"
      ],
      "metadata": {
        "id": "JGCnE7nfl97e"
      },
      "execution_count": 3,
      "outputs": []
    },
    {
      "cell_type": "markdown",
      "source": [
        "Tạo thư mục data"
      ],
      "metadata": {
        "id": "aPTiK5ElyQt5"
      }
    },
    {
      "cell_type": "code",
      "source": [
        "def create_data_directory(directory_name='data'):\n",
        "    \"\"\"\n",
        "    Tạo thư mục để lưu trữ dữ liệu nếu nó chưa tồn tại.\n",
        "    Args:\n",
        "    - directory_name (str): Tên thư mục.\n",
        "    \"\"\"\n",
        "    if not os.path.exists(directory_name):\n",
        "        os.makedirs(directory_name)\n",
        "\n",
        "# Sử dụng hàm để tạo thư mục 'data'\n",
        "create_data_directory()\n"
      ],
      "metadata": {
        "id": "rrAlJ6oxyPnZ"
      },
      "execution_count": 6,
      "outputs": []
    },
    {
      "cell_type": "markdown",
      "source": [
        "Tải data"
      ],
      "metadata": {
        "id": "dmTyV9KvmJXK"
      }
    },
    {
      "cell_type": "code",
      "source": [
        "# Part 1: Download Data\n",
        "\n",
        "def download_data():\n",
        "    if not os.path.exists('data'):\n",
        "        os.makedirs('data')\n",
        "\n",
        "    base_url = 'https://storage.googleapis.com/quickdraw_dataset/full/numpy_bitmap/'\n",
        "\n",
        "    for class_name in classes:\n",
        "        print(\"Class name : \",class_name)\n",
        "        class_url = class_name.replace('_', '%20')\n",
        "        file_path = f'data/{class_name}.npy'\n",
        "        url = f'{base_url}{class_url}.npy'\n",
        "        print(\"URL : \",url)\n",
        "        urllib.request.urlretrieve(url, file_path)\n",
        "\n",
        "# Download data\n",
        "download_data()"
      ],
      "metadata": {
        "colab": {
          "base_uri": "https://localhost:8080/"
        },
        "id": "Z1kA5sKUkQ45",
        "outputId": "89fd865c-630a-4f1c-e20f-fd3aa74133f1"
      },
      "execution_count": 8,
      "outputs": [
        {
          "output_type": "stream",
          "name": "stdout",
          "text": [
            "Class name :  cat\n",
            "URL :  https://storage.googleapis.com/quickdraw_dataset/full/numpy_bitmap/cat.npy\n",
            "Class name :  tree\n",
            "URL :  https://storage.googleapis.com/quickdraw_dataset/full/numpy_bitmap/tree.npy\n",
            "Class name :  banana\n",
            "URL :  https://storage.googleapis.com/quickdraw_dataset/full/numpy_bitmap/banana.npy\n",
            "Class name :  apple\n",
            "URL :  https://storage.googleapis.com/quickdraw_dataset/full/numpy_bitmap/apple.npy\n"
          ]
        }
      ]
    },
    {
      "cell_type": "markdown",
      "source": [
        "# Phần 2 : Load dữ liệu và chuẩn bị data để train"
      ],
      "metadata": {
        "id": "Qdh-W1mxvJOS"
      }
    },
    {
      "cell_type": "code",
      "source": [
        "# Part 2: Load and Preprocess Data\n",
        "def load_data(root, vfold_ratio=0.2, max_items_per_class=4000):\n",
        "    all_files = glob.glob(os.path.join(root, '*.npy'))\n",
        "\n",
        "    x, y, class_names = np.empty([0, 784]), np.empty([0]), []\n",
        "\n",
        "    for idx, file in enumerate(all_files):\n",
        "        data = np.load(file)[:max_items_per_class, :]\n",
        "        labels = np.full(data.shape[0], idx)\n",
        "\n",
        "        x = np.concatenate((x, data), axis=0)\n",
        "        y = np.append(y, labels)\n",
        "\n",
        "        class_name, _ = os.path.splitext(os.path.basename(file))\n",
        "        class_names.append(class_name)\n",
        "\n",
        "    permutation = np.random.permutation(y.shape[0])\n",
        "    x = x[permutation, :]\n",
        "    y = y[permutation]\n",
        "\n",
        "    vfold_size = int(x.shape[0] * vfold_ratio)\n",
        "    x_test, y_test = x[:vfold_size, :], y[:vfold_size]\n",
        "    x_train, y_train = x[vfold_size:, :], y[vfold_size:]\n",
        "\n",
        "    return x_train, y_train, x_test, y_test, class_names\n",
        "\n",
        "# Load and preprocess data\n",
        "x_train, y_train, x_test, y_test, class_names = load_data('data')\n",
        "\n",
        "# Display a random image\n",
        "idx = randint(0, len(x_train))\n",
        "plt.imshow(x_train[idx].reshape(28, 28))\n",
        "print(class_names[int(y_train[idx])])\n",
        "\n",
        "# Normalize and reshape data\n",
        "image_size = 28\n",
        "x_train = x_train.reshape(-1, image_size, image_size, 1).astype('float32') / 255.0\n",
        "x_test = x_test.reshape(-1, image_size, image_size, 1).astype('float32') / 255.0\n",
        "\n",
        "# Convert class vectors to class matrices\n",
        "num_classes = len(class_names)\n",
        "y_train = keras.utils.to_categorical(y_train, num_classes)\n",
        "y_test = keras.utils.to_categorical(y_test, num_classes)"
      ],
      "metadata": {
        "colab": {
          "base_uri": "https://localhost:8080/",
          "height": 447
        },
        "id": "7QoEFPw7khiW",
        "outputId": "59d2bd19-9a39-4ba3-ae5d-b8853f3b65c1"
      },
      "execution_count": 9,
      "outputs": [
        {
          "output_type": "stream",
          "name": "stdout",
          "text": [
            "cat\n"
          ]
        },
        {
          "output_type": "display_data",
          "data": {
            "text/plain": [
              "<Figure size 640x480 with 1 Axes>"
            ],
            "image/png": "[encoded data removed]"
          },
          "metadata": {}
        }
      ]
    },
    {
      "cell_type": "markdown",
      "source": [
        "# Phần 3 : Build model"
      ],
      "metadata": {
        "id": "irpkiyQjvyJ9"
      }
    },
    {
      "cell_type": "code",
      "source": [
        "# Part 3: Build Model\n",
        "model = keras.Sequential([\n",
        "    layers.Convolution2D(16, (3, 3), padding='same', input_shape=x_train.shape[1:], activation='relu'),\n",
        "    layers.MaxPooling2D(pool_size=(2, 2)),\n",
        "    layers.Convolution2D(32, (3, 3), padding='same', activation='relu'),\n",
        "    layers.MaxPooling2D(pool_size=(2, 2)),\n",
        "    layers.Convolution2D(64, (3, 3), padding='same', activation='relu'),\n",
        "    layers.MaxPooling2D(pool_size=(2, 2)),\n",
        "    layers.Flatten(),\n",
        "    layers.Dense(128, activation='tanh'),\n",
        "    layers.Dense(num_classes, activation='softmax')\n",
        "])\n",
        "\n",
        "# Compile Model\n",
        "adam = tf.optimizers.Adam()\n",
        "model.compile(loss='categorical_crossentropy', optimizer=adam, metrics=['top_k_categorical_accuracy'])\n",
        "print(model.summary())\n"
      ],
      "metadata": {
        "colab": {
          "base_uri": "https://localhost:8080/"
        },
        "id": "PSPr5pYjnWl3",
        "outputId": "8af08b95-3afb-4b0d-8506-d59cb089a29a"
      },
      "execution_count": 10,
      "outputs": [
        {
          "output_type": "stream",
          "name": "stdout",
          "text": [
            "Model: \"sequential\"\n",
            "_________________________________________________________________\n",
            " Layer (type)                Output Shape              Param #   \n",
            "=================================================================\n",
            " conv2d (Conv2D)             (None, 28, 28, 16)        160       \n",
            "                                                                 \n",
            " max_pooling2d (MaxPooling2  (None, 14, 14, 16)        0         \n",
            " D)                                                              \n",
            "                                                                 \n",
            " conv2d_1 (Conv2D)           (None, 14, 14, 32)        4640      \n",
            "                                                                 \n",
            " max_pooling2d_1 (MaxPoolin  (None, 7, 7, 32)          0         \n",
            " g2D)                                                            \n",
            "                                                                 \n",
            " conv2d_2 (Conv2D)           (None, 7, 7, 64)          18496     \n",
            "                                                                 \n",
            " max_pooling2d_2 (MaxPoolin  (None, 3, 3, 64)          0         \n",
            " g2D)                                                            \n",
            "                                                                 \n",
            " flatten (Flatten)           (None, 576)               0         \n",
            "                                                                 \n",
            " dense (Dense)               (None, 128)               73856     \n",
            "                                                                 \n",
            " dense_1 (Dense)             (None, 4)                 516       \n",
            "                                                                 \n",
            "=================================================================\n",
            "Total params: 97668 (381.52 KB)\n",
            "Trainable params: 97668 (381.52 KB)\n",
            "Non-trainable params: 0 (0.00 Byte)\n",
            "_________________________________________________________________\n",
            "None\n"
          ]
        }
      ]
    },
    {
      "cell_type": "markdown",
      "source": [
        "# Phần 4 : Train model"
      ],
      "metadata": {
        "id": "M4ZvDtFov2Vn"
      }
    },
    {
      "cell_type": "code",
      "source": [
        "# Part 4: Train Model\n",
        "model.fit(x=x_train, y=y_train, validation_split=0.1, batch_size=256, verbose=2, epochs=6)\n"
      ],
      "metadata": {
        "colab": {
          "base_uri": "https://localhost:8080/"
        },
        "id": "fa8IaI4FnZ6z",
        "outputId": "70e7f832-3a19-4fe1-b7e8-db3fc7612cc4"
      },
      "execution_count": 11,
      "outputs": [
        {
          "output_type": "stream",
          "name": "stdout",
          "text": [
            "Epoch 1/6\n",
            "45/45 - 10s - loss: 0.5327 - top_k_categorical_accuracy: 1.0000 - val_loss: 0.2548 - val_top_k_categorical_accuracy: 1.0000 - 10s/epoch - 223ms/step\n",
            "Epoch 2/6\n",
            "45/45 - 10s - loss: 0.2190 - top_k_categorical_accuracy: 1.0000 - val_loss: 0.1999 - val_top_k_categorical_accuracy: 1.0000 - 10s/epoch - 220ms/step\n",
            "Epoch 3/6\n",
            "45/45 - 13s - loss: 0.1802 - top_k_categorical_accuracy: 1.0000 - val_loss: 0.1693 - val_top_k_categorical_accuracy: 1.0000 - 13s/epoch - 283ms/step\n",
            "Epoch 4/6\n",
            "45/45 - 12s - loss: 0.1523 - top_k_categorical_accuracy: 1.0000 - val_loss: 0.1615 - val_top_k_categorical_accuracy: 1.0000 - 12s/epoch - 256ms/step\n",
            "Epoch 5/6\n",
            "45/45 - 10s - loss: 0.1353 - top_k_categorical_accuracy: 1.0000 - val_loss: 0.1449 - val_top_k_categorical_accuracy: 1.0000 - 10s/epoch - 222ms/step\n",
            "Epoch 6/6\n",
            "45/45 - 8s - loss: 0.1106 - top_k_categorical_accuracy: 1.0000 - val_loss: 0.1338 - val_top_k_categorical_accuracy: 1.0000 - 8s/epoch - 174ms/step\n"
          ]
        },
        {
          "output_type": "execute_result",
          "data": {
            "text/plain": [
              "<keras.src.callbacks.History at 0x7affe96d8970>"
            ]
          },
          "metadata": {},
          "execution_count": 11
        }
      ]
    },
    {
      "cell_type": "markdown",
      "source": [
        "# Phần 5 : Đánh giá và dự đoán dữ liệu"
      ],
      "metadata": {
        "id": "7Y6ORfgoxQkY"
      }
    },
    {
      "cell_type": "code",
      "source": [
        "# Part 5: Evaluate Model\n",
        "score = model.evaluate(x_test, y_test, verbose=0)\n",
        "print('Test accuracy: {:0.2f}%'.format(score[1] * 100))\n"
      ],
      "metadata": {
        "colab": {
          "base_uri": "https://localhost:8080/"
        },
        "id": "-Qbjta0Jnb0K",
        "outputId": "d08661b1-67d9-4ca5-e862-8de6272a09b1"
      },
      "execution_count": 12,
      "outputs": [
        {
          "output_type": "stream",
          "name": "stdout",
          "text": [
            "Test accuracy: 100.00%\n"
          ]
        }
      ]
    },
    {
      "cell_type": "code",
      "source": [
        "idx = randint(0, len(x_test))\n",
        "img = x_test[idx]\n",
        "plt.imshow(img.squeeze())\n",
        "pred = model.predict(np.expand_dims(img, axis=0))[0]\n",
        "ind = (-pred).argsort()[:5]\n",
        "top_classes = [class_names[i] for i in ind]\n",
        "print(top_classes)\n"
      ],
      "metadata": {
        "colab": {
          "base_uri": "https://localhost:8080/",
          "height": 465
        },
        "id": "OGhNft6XndOI",
        "outputId": "76bfedd4-4aa4-4f13-be89-a5cba3e54916"
      },
      "execution_count": 13,
      "outputs": [
        {
          "output_type": "stream",
          "name": "stdout",
          "text": [
            "1/1 [==============================] - 0s 201ms/step\n",
            "['cat', 'banana', 'tree', 'apple']\n"
          ]
        },
        {
          "output_type": "display_data",
          "data": {
            "text/plain": [
              "<Figure size 640x480 with 1 Axes>"
            ],
            "image/png": "[encoded data removed]"
          },
          "metadata": {}
        }
      ]
    },
    {
      "cell_type": "markdown",
      "source": [
        "# Phần 6 : Lưu model dưới dạng h5 và lưu class name"
      ],
      "metadata": {
        "id": "t6Vcv24jx4gr"
      }
    },
    {
      "cell_type": "code",
      "source": [
        "# Part 6: Save Model and Class Names\n",
        "with open('class_names.txt', 'w') as file_handler:\n",
        "    for item in class_names:\n",
        "        file_handler.write(\"{}\\n\".format(item))\n",
        "model.save('keras.h5')"
      ],
      "metadata": {
        "colab": {
          "base_uri": "https://localhost:8080/"
        },
        "id": "B6pnP4winffN",
        "outputId": "08f45957-0ae5-4492-a638-eea11a904eae"
      },
      "execution_count": 14,
      "outputs": [
        {
          "output_type": "stream",
          "name": "stderr",
          "text": [
            "/usr/local/lib/python3.10/dist-packages/keras/src/engine/training.py:3079: UserWarning: You are saving your model as an HDF5 file via `model.save()`. This file format is considered legacy. We recommend using instead the native Keras format, e.g. `model.save('my_model.keras')`.\n",
            "  saving_api.save_model(\n"
          ]
        }
      ]
    }
  ]
}